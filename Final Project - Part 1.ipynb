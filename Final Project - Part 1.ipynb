{
 "cells": [
  {
   "cell_type": "markdown",
   "metadata": {},
   "source": [
    "### Final Project, Part 1: Pitch\n",
    "Test and validate 2–3 initial ideas.\n",
    "\n",
    "In the field of data science, projects are practical. One of the best ways to quickly test ideas is to share your ideas with others and get feedback. Start by reviewing the requirements and suggested data sets, then generate a list of 2–3 potential ideas you'd like to pursue.\n",
    "\n",
    "#### Requirements\n",
    "\n",
    "Generate 2–3 different possible problem statements (of at least 250 words each).\n",
    "State the questions you seek to answer, data set suggestions, and possible challenges.\n",
    "Create a written pitch for each possibility that can be shared with your instructor and classmates.\n",
    "Submit or present your pitch as required by your instructor."
   ]
  },
  {
   "cell_type": "markdown",
   "metadata": {},
   "source": [
    "---\n",
    "### Idea #1\n",
    "\n",
    "#### Predicting Housing Sales Prices \n",
    "https://www.kaggle.com/c/house-prices-advanced-regression-techniques\n",
    "\n",
    "Based off of all the variables in a house (number of rooms, location, etc), how can we predict the sales price of a house? Since this dataset is a good beginner problem statement to work with, I think this would be a great starter project to work on. Since there are many variables, it would be interesting to do the exploratory data analysis on this dataset."
   ]
  },
  {
   "cell_type": "markdown",
   "metadata": {},
   "source": [
    "---\n",
    "\n",
    "### Idea #2\n",
    "\n",
    "#### HR Analysis, why do people leave a company?\n",
    "\n",
    "https://www.kaggle.com/ludobenistant/hr-analytics-1\n",
    "\n",
    "Why do good employees leave a company? This dataset would try to predict if an employee would stay or leave with a company based on factors.\n"
   ]
  },
  {
   "cell_type": "markdown",
   "metadata": {},
   "source": [
    "---\n",
    "### Idea #3\n",
    "\n",
    "#### WDSM Churn Analysis\n",
    "\n",
    "https://www.kaggle.com/c/kkbox-churn-prediction-challenge\n",
    "\n",
    "Can we predict if a user's churn (will they leave or stay) in a subscription service? "
   ]
  }
 ],
 "metadata": {
  "kernelspec": {
   "display_name": "Python 2",
   "language": "python",
   "name": "python2"
  },
  "language_info": {
   "codemirror_mode": {
    "name": "ipython",
    "version": 2
   },
   "file_extension": ".py",
   "mimetype": "text/x-python",
   "name": "python",
   "nbconvert_exporter": "python",
   "pygments_lexer": "ipython2",
   "version": "2.7.14"
  }
 },
 "nbformat": 4,
 "nbformat_minor": 2
}
